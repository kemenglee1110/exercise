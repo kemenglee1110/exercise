{
 "cells": [
  {
   "cell_type": "code",
   "execution_count": 2,
   "id": "589de090",
   "metadata": {},
   "outputs": [
    {
     "name": "stdout",
     "output_type": "stream",
     "text": [
      "Collecting pygithub\n",
      "  Downloading PyGithub-1.59.0-py3-none-any.whl (342 kB)\n",
      "     ------------------------------------ 342.1/342.1 kB 885.0 kB/s eta 0:00:00\n",
      "Requirement already satisfied: pynacl>=1.4.0 in d:\\anaconda3\\lib\\site-packages (from pygithub) (1.5.0)\n",
      "Requirement already satisfied: pyjwt[crypto]>=2.4.0 in d:\\anaconda3\\lib\\site-packages (from pygithub) (2.4.0)\n",
      "Collecting deprecated\n",
      "  Downloading Deprecated-1.2.14-py2.py3-none-any.whl (9.6 kB)\n",
      "Requirement already satisfied: requests>=2.14.0 in d:\\anaconda3\\lib\\site-packages (from pygithub) (2.28.1)\n",
      "Requirement already satisfied: cryptography>=3.3.1 in d:\\anaconda3\\lib\\site-packages (from pyjwt[crypto]>=2.4.0->pygithub) (39.0.1)\n",
      "Requirement already satisfied: cffi>=1.4.1 in d:\\anaconda3\\lib\\site-packages (from pynacl>=1.4.0->pygithub) (1.15.1)\n",
      "Requirement already satisfied: charset-normalizer<3,>=2 in d:\\anaconda3\\lib\\site-packages (from requests>=2.14.0->pygithub) (2.0.4)\n",
      "Requirement already satisfied: urllib3<1.27,>=1.21.1 in d:\\anaconda3\\lib\\site-packages (from requests>=2.14.0->pygithub) (1.26.14)\n",
      "Requirement already satisfied: certifi>=2017.4.17 in d:\\anaconda3\\lib\\site-packages (from requests>=2.14.0->pygithub) (2022.12.7)\n",
      "Requirement already satisfied: idna<4,>=2.5 in d:\\anaconda3\\lib\\site-packages (from requests>=2.14.0->pygithub) (3.4)\n",
      "Requirement already satisfied: wrapt<2,>=1.10 in d:\\anaconda3\\lib\\site-packages (from deprecated->pygithub) (1.14.1)\n",
      "Requirement already satisfied: pycparser in d:\\anaconda3\\lib\\site-packages (from cffi>=1.4.1->pynacl>=1.4.0->pygithub) (2.21)\n",
      "Installing collected packages: deprecated, pygithub\n",
      "Successfully installed deprecated-1.2.14 pygithub-1.59.0\n"
     ]
    }
   ],
   "source": [
    "!pip install pygithub"
   ]
  },
  {
   "cell_type": "code",
   "execution_count": 3,
   "id": "9dde3449",
   "metadata": {},
   "outputs": [],
   "source": [
    "from github import Github\n",
    "\n",
    "# 使用账户名和密码登录 Github\n",
    "g = Github(\"kemenglee1110\", \"abc651225\")\n",
    "\n",
    "# 获取仓库\n",
    "# repo = g.get_repo(\"your-github-username/your-repo-name\")\n",
    "repo = g.get_repo(\"kemenglee1110/exercise\")\n"
   ]
  },
  {
   "cell_type": "code",
   "execution_count": 4,
   "id": "dd2010cb",
   "metadata": {},
   "outputs": [
    {
     "name": "stderr",
     "output_type": "stream",
     "text": [
      "'git' 不是内部或外部命令，也不是可运行的程序\n",
      "或批处理文件。\n"
     ]
    }
   ],
   "source": [
    "!git clone https://github.com/deepmodeling-activity/Hackathon2021"
   ]
  },
  {
   "cell_type": "code",
   "execution_count": 6,
   "id": "667d5c11",
   "metadata": {},
   "outputs": [
    {
     "name": "stdout",
     "output_type": "stream",
     "text": [
      "main\n"
     ]
    }
   ],
   "source": [
    "# 获取仓库的所有分支\n",
    "branches = repo.get_branches()\n",
    "for branch in branches:\n",
    "    print(branch.name)\n",
    "\n",
    "# 获取仓库的所有 issues\n",
    "issues = repo.get_issues(state='all')\n",
    "for issue in issues:\n",
    "    print(issue.title)"
   ]
  },
  {
   "cell_type": "code",
   "execution_count": null,
   "id": "4d0ac19a",
   "metadata": {},
   "outputs": [],
   "source": [
    "# 创建一个新分支\n",
    "new_branch = repo.create_git_ref(ref='refs/heads/new-branch', \\\n",
    "                                 sha='branch-commit-sha')\n",
    "\n",
    "# 把一个文件添加到仓库中\n",
    "contents = repo.get_contents('path/to/file.txt') # 获取文件的内容\n",
    "repo.create_file('path/to/new_file.txt', 'commit message', 'file content')\n",
    "\n",
    "# 提交一个新的 Pull Request\n",
    "pull_request = repo.create_pull(title='New Pull Request', \\\n",
    "                                body='Adding a new feature!', \\\n",
    "                                base='master', head='new-branch')"
   ]
  }
 ],
 "metadata": {
  "kernelspec": {
   "display_name": "Python 3 (ipykernel)",
   "language": "python",
   "name": "python3"
  },
  "language_info": {
   "codemirror_mode": {
    "name": "ipython",
    "version": 3
   },
   "file_extension": ".py",
   "mimetype": "text/x-python",
   "name": "python",
   "nbconvert_exporter": "python",
   "pygments_lexer": "ipython3",
   "version": "3.10.9"
  }
 },
 "nbformat": 4,
 "nbformat_minor": 5
}
